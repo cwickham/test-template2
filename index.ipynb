{
 "cells": [
  {
   "cell_type": "markdown",
   "metadata": {},
   "source": [
    "---\n",
    "title: \"Preparing your manuscript\"\n",
    "author:\n",
    "  - name: Charlotte Wickham\n",
    "    affiliations:\n",
    "      - name: State University of New York College of Environmental Science and Forestry\n",
    "        department: Graduate Program in Environmental Science\n",
    "        address: 1 Forestry Drive\n",
    "        city: Syracuse\n",
    "        region: NY\n",
    "        country: USA\n",
    "        postal-code: 13210\n",
    "    orcid: 0000-0003-2402-304X\n",
    "    email: fake_email@fakeyfake.com\n",
    "    url: https://mm218.dev\n",
    "    acknowledgements: Translated template to Quarto.\n",
    "  - name: Charles Teague\n",
    "    affiliations:\n",
    "      - name: Posit, PBC\n",
    "        address: 250 Northern Ave\n",
    "        city: Boston\n",
    "        region: Massachusetts\n",
    "        country: USA\n",
    "        postal-code: 02210\n",
    "    corresponding: true\n",
    "    orcid: 0000-0001-8715-9476\n",
    "    email: charles@posit.co\n",
    "abstract: |\n",
    "  The abstract (1) states the nature of the investigation and (2) summarizes the important conclusions. The abstract should be suitable for indexing. Your abstract should:\n",
    "\n",
    "    - Be set as a single paragraph.\n",
    "    - Be less than 250 words for all journals except GRL, for which the limit is 150 words.\n",
    "    - Not include table or figure mentions.\n",
    "    - Avoid reference citations unless dependent on or directly related to another paper (e.g., companion, comment, reply, or commentary on another paper(s)). AGU’s Style Guide discusses formatting citations in abstracts.\n",
    "    - Define all abbreviations.\n",
    "plain-language-summary: |\n",
    "  A Plain Language Summary (PLS) can be an incredibly effective science communication tool. By summarizing your paper in non-technical terms, you can explain your research and its relevance to a much broader audience. A PLS is required for submissions to AGU Advances, G-Cubed, GeoHealth, GRL, JAMES, JGR: Biogeosciences, JGR: Oceans, JGR: Planets, JGR: Solid Earth, JGR: Atmospheres, Space Weather, and Reviews of Geophysics, but optional for other journals.  A PLS should be no longer than 200 words and should be free of jargon, acronyms, equations, and any technical information that would be unknown to people from outside your scientific discipline. Read our tips for creating an effective PLS.\n",
    "keywords: []\n",
    "key-points:\n",
    "  - Key Points convey the main points and conclusions of the article. \n",
    "  - Up to three key point statements are allowed, and each is limited to at most 140 characters with no abbreviations.\n",
    "  - Key Points are not included in the word count.\n",
    "citation:\n",
    "  container-title: Geophysical Research Letters\n",
    "date: last-modified\n",
    "---"
   ]
  },
  {
   "cell_type": "markdown",
   "metadata": {},
   "source": [
    "## Introduction\n",
    "This is a simple placeholder for the manuscript's main document.\n",
    "\n"
   ]
  },
  {
   "cell_type": "markdown",
   "metadata": {},
   "source": [
    "## Data & Methods\n"
   ]
  }
 ],
 "metadata": {
  "kernelspec": {
   "display_name": "Python 3 (ipykernel)",
   "language": "python",
   "name": "python3"
  },
  "language_info": {
   "codemirror_mode": {
    "name": "ipython",
    "version": 3
   },
   "file_extension": ".py",
   "mimetype": "text/x-python",
   "name": "python",
   "nbconvert_exporter": "python",
   "pygments_lexer": "ipython3",
   "version": "3.11.3"
  }
 },
 "nbformat": 4,
 "nbformat_minor": 4
}
